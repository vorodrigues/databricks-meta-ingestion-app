{
 "cells": [
  {
   "cell_type": "code",
   "execution_count": 0,
   "metadata": {
    "application/vnd.databricks.v1+cell": {
     "cellMetadata": {
      "byteLimit": 2048000,
      "rowLimit": 10000
     },
     "inputWidgets": {},
     "nuid": "d6870f94-6420-49a4-9483-d1a265e2e0cf",
     "showTitle": false,
     "tableResultSettingsMap": {},
     "title": ""
    }
   },
   "outputs": [],
   "source": [
    "import os\n",
    "from databricks import sql\n",
    "from databricks.sdk.core import Config\n",
    "import pandas as pd\n",
    "import traceback"
   ]
  },
  {
   "cell_type": "code",
   "execution_count": 0,
   "metadata": {
    "application/vnd.databricks.v1+cell": {
     "cellMetadata": {
      "byteLimit": 2048000,
      "rowLimit": 10000
     },
     "inputWidgets": {},
     "nuid": "74561368-e6b2-4458-bda4-ea825008707a",
     "showTitle": false,
     "tableResultSettingsMap": {},
     "title": ""
    }
   },
   "outputs": [],
   "source": [
    "CONFIG_TABLE = \"vr_demo_dev.control.meta_ingestion_config\""
   ]
  },
  {
   "cell_type": "code",
   "execution_count": 0,
   "metadata": {
    "application/vnd.databricks.v1+cell": {
     "cellMetadata": {
      "byteLimit": 2048000,
      "rowLimit": 10000
     },
     "inputWidgets": {},
     "nuid": "5c6c81cc-42dc-4523-94f5-5e8fa89834af",
     "showTitle": false,
     "tableResultSettingsMap": {},
     "title": ""
    }
   },
   "outputs": [],
   "source": [
    "def sqlQuery(query: str) -> pd.DataFrame:\n",
    "    cfg = Config() # Pull environment variables for auth\n",
    "    with sql.connect(\n",
    "        server_hostname=cfg.host,\n",
    "        http_path=f\"/sql/1.0/warehouses/dd43ee29fedd958d\",\n",
    "        credentials_provider=lambda: cfg.authenticate\n",
    "    ) as connection:\n",
    "        with connection.cursor() as cursor:\n",
    "            cursor.execute(query)\n",
    "            return cursor.fetchall_arrow().to_pandas()"
   ]
  },
  {
   "cell_type": "code",
   "execution_count": 0,
   "metadata": {
    "application/vnd.databricks.v1+cell": {
     "cellMetadata": {
      "byteLimit": 2048000,
      "rowLimit": 10000
     },
     "inputWidgets": {},
     "nuid": "fa36514d-2c20-4c70-8050-981bfe23814d",
     "showTitle": false,
     "tableResultSettingsMap": {},
     "title": ""
    }
   },
   "outputs": [],
   "source": [
    "sqlQuery(f\"\"\"\n",
    "        select distinct ingestion_group \n",
    "        from {CONFIG_TABLE} \n",
    "        order by ingestion_group\n",
    "    \"\"\")[\"ingestion_group\"].to_list()"
   ]
  },
  {
   "cell_type": "code",
   "execution_count": 0,
   "metadata": {
    "application/vnd.databricks.v1+cell": {
     "cellMetadata": {},
     "inputWidgets": {},
     "nuid": "88730ee0-eb85-4019-9237-3b08222667bb",
     "showTitle": false,
     "tableResultSettingsMap": {},
     "title": ""
    }
   },
   "outputs": [],
   "source": []
  },
  {
   "cell_type": "code",
   "execution_count": 0,
   "metadata": {
    "application/vnd.databricks.v1+cell": {
     "cellMetadata": {},
     "inputWidgets": {},
     "nuid": "3fb2fd83-736e-40d7-8e61-da7d15620168",
     "showTitle": false,
     "tableResultSettingsMap": {},
     "title": ""
    }
   },
   "outputs": [],
   "source": []
  },
  {
   "cell_type": "code",
   "execution_count": 0,
   "metadata": {
    "application/vnd.databricks.v1+cell": {
     "cellMetadata": {
      "byteLimit": 2048000,
      "rowLimit": 10000
     },
     "inputWidgets": {},
     "nuid": "bb6b7408-30a8-445e-9af8-3bb573ec61e4",
     "showTitle": false,
     "tableResultSettingsMap": {},
     "title": ""
    }
   },
   "outputs": [],
   "source": [
    "df = sqlQuery(f\"\"\"\n",
    "        select *, row_number() over (order by target_catalog, target_database, target_table) as idx\n",
    "        from vr_demo_dev.control.meta_ingestion_config\n",
    "        order by target_catalog, target_database, target_table\n",
    "    \"\"\")\n",
    "print(df)"
   ]
  },
  {
   "cell_type": "code",
   "execution_count": 0,
   "metadata": {
    "application/vnd.databricks.v1+cell": {
     "cellMetadata": {
      "byteLimit": 2048000,
      "rowLimit": 10000
     },
     "inputWidgets": {},
     "nuid": "cc8458ea-b2be-48e4-b6fa-56d62779fa23",
     "showTitle": false,
     "tableResultSettingsMap": {},
     "title": ""
    }
   },
   "outputs": [],
   "source": [
    "# [f\"{row['target_catalog']}.{row['target_database']}.{row['target_table']}\" for row in df.iterrows()]\n",
    "[f\"{cat}.{db}.{tbl}\" for cat, db, tbl in zip(df[\"target_catalog\"], df[\"target_database\"], df[\"target_table\"])]"
   ]
  },
  {
   "cell_type": "code",
   "execution_count": 0,
   "metadata": {
    "application/vnd.databricks.v1+cell": {
     "cellMetadata": {
      "byteLimit": 2048000,
      "rowLimit": 10000
     },
     "inputWidgets": {},
     "nuid": "e14c705f-43b4-4bd1-88b2-1e7e19059088",
     "showTitle": false,
     "tableResultSettingsMap": {},
     "title": ""
    }
   },
   "outputs": [],
   "source": [
    "df1 = df\n",
    "df2 = df.copy()\n",
    "df2.at[3, 'source_type'] = 'kafka'"
   ]
  },
  {
   "cell_type": "code",
   "execution_count": 0,
   "metadata": {
    "application/vnd.databricks.v1+cell": {
     "cellMetadata": {
      "byteLimit": 2048000,
      "rowLimit": 10000
     },
     "inputWidgets": {},
     "nuid": "68aff978-4813-4c99-b585-1aae3af6d68b",
     "showTitle": false,
     "tableResultSettingsMap": {},
     "title": ""
    }
   },
   "outputs": [],
   "source": [
    "df1.compare(df2)"
   ]
  },
  {
   "cell_type": "code",
   "execution_count": 0,
   "metadata": {
    "application/vnd.databricks.v1+cell": {
     "cellMetadata": {
      "byteLimit": 2048000,
      "rowLimit": 10000
     },
     "inputWidgets": {},
     "nuid": "25684529-a6af-4c40-a2d3-1604b7ef4514",
     "showTitle": false,
     "tableResultSettingsMap": {},
     "title": ""
    }
   },
   "outputs": [],
   "source": [
    "df1.filter(items=df1.compare(df2).index, axis=0)"
   ]
  },
  {
   "cell_type": "code",
   "execution_count": 0,
   "metadata": {
    "application/vnd.databricks.v1+cell": {
     "cellMetadata": {
      "byteLimit": 2048000,
      "rowLimit": 10000
     },
     "inputWidgets": {},
     "nuid": "a6a89de7-cec5-43c6-b753-4e3374a3c627",
     "showTitle": false,
     "tableResultSettingsMap": {},
     "title": ""
    }
   },
   "outputs": [],
   "source": [
    "df1 != df2"
   ]
  },
  {
   "cell_type": "code",
   "execution_count": 0,
   "metadata": {
    "application/vnd.databricks.v1+cell": {
     "cellMetadata": {},
     "inputWidgets": {},
     "nuid": "68516239-0631-466f-8cc5-acf19439f582",
     "showTitle": false,
     "tableResultSettingsMap": {},
     "title": ""
    }
   },
   "outputs": [],
   "source": []
  },
  {
   "cell_type": "code",
   "execution_count": 0,
   "metadata": {
    "application/vnd.databricks.v1+cell": {
     "cellMetadata": {},
     "inputWidgets": {},
     "nuid": "511379a3-e5fa-4d56-9d44-e2c469d02c5c",
     "showTitle": false,
     "tableResultSettingsMap": {},
     "title": ""
    }
   },
   "outputs": [],
   "source": []
  },
  {
   "cell_type": "code",
   "execution_count": 0,
   "metadata": {
    "application/vnd.databricks.v1+cell": {
     "cellMetadata": {},
     "inputWidgets": {},
     "nuid": "2388e12d-ad05-47ae-9470-2dd38e958b83",
     "showTitle": false,
     "tableResultSettingsMap": {},
     "title": ""
    }
   },
   "outputs": [],
   "source": []
  },
  {
   "cell_type": "code",
   "execution_count": 0,
   "metadata": {
    "application/vnd.databricks.v1+cell": {
     "cellMetadata": {
      "byteLimit": 2048000,
      "rowLimit": 10000
     },
     "inputWidgets": {},
     "nuid": "403ee87b-0d22-4770-8b5d-5dc4f7ed5706",
     "showTitle": false,
     "tableResultSettingsMap": {},
     "title": ""
    }
   },
   "outputs": [],
   "source": [
    "max_idx = df[\"idx\"].max()\n",
    "df2 = df\n",
    "df2[\"idx\"] = df.index + max_idx + 1\n",
    "print(df2)"
   ]
  },
  {
   "cell_type": "code",
   "execution_count": 0,
   "metadata": {
    "application/vnd.databricks.v1+cell": {
     "cellMetadata": {},
     "inputWidgets": {},
     "nuid": "5cfd3cae-b3a4-4f77-8b29-1320bbc8d6a2",
     "showTitle": false,
     "tableResultSettingsMap": {},
     "title": ""
    }
   },
   "outputs": [],
   "source": []
  },
  {
   "cell_type": "code",
   "execution_count": 0,
   "metadata": {
    "application/vnd.databricks.v1+cell": {
     "cellMetadata": {
      "byteLimit": 2048000,
      "rowLimit": 10000
     },
     "inputWidgets": {},
     "nuid": "352c3d96-45f1-4efd-9384-7004153593cc",
     "showTitle": false,
     "tableResultSettingsMap": {},
     "title": ""
    }
   },
   "outputs": [],
   "source": [
    "df1 = spark.table('vr_demo_dev.control.meta_ingestion_config').toPandas()\n",
    "df2 = spark.table('vr_demo_dev.control.meta_ingestion_config').limit(1).toPandas()\n",
    "df2['target_table'] = 'table1'"
   ]
  },
  {
   "cell_type": "code",
   "execution_count": 0,
   "metadata": {
    "application/vnd.databricks.v1+cell": {
     "cellMetadata": {
      "byteLimit": 2048000,
      "rowLimit": 10000
     },
     "inputWidgets": {},
     "nuid": "48e2b052-4549-4bac-a8ab-7f58ef59e1d6",
     "showTitle": false,
     "tableResultSettingsMap": {},
     "title": ""
    }
   },
   "outputs": [],
   "source": [
    "keys = ['ingestion_group', 'target_catalog', 'target_database', 'target_table']\n",
    "df1 = df1.set_index(keys)\n",
    "df2 = df2.set_index(keys)\n",
    "df3 = pd.concat([df1[~df1.index.isin(df2.index)], df2]).reset_index()"
   ]
  },
  {
   "cell_type": "code",
   "execution_count": 0,
   "metadata": {
    "application/vnd.databricks.v1+cell": {
     "cellMetadata": {
      "byteLimit": 2048000,
      "rowLimit": 10000
     },
     "inputWidgets": {},
     "nuid": "382e9436-e737-4520-aa71-8d2c71d2b602",
     "showTitle": false,
     "tableResultSettingsMap": {},
     "title": ""
    }
   },
   "outputs": [],
   "source": [
    "display(df3)"
   ]
  },
  {
   "cell_type": "code",
   "execution_count": 0,
   "metadata": {
    "application/vnd.databricks.v1+cell": {
     "cellMetadata": {},
     "inputWidgets": {},
     "nuid": "1a811cf3-8ead-499f-a974-f92cad0d8e52",
     "showTitle": false,
     "tableResultSettingsMap": {},
     "title": ""
    }
   },
   "outputs": [],
   "source": []
  },
  {
   "cell_type": "code",
   "execution_count": 0,
   "metadata": {
    "application/vnd.databricks.v1+cell": {
     "cellMetadata": {
      "byteLimit": 2048000,
      "rowLimit": 10000
     },
     "inputWidgets": {},
     "nuid": "14823059-6091-4ba7-8e2c-5bd895482e12",
     "showTitle": false,
     "tableResultSettingsMap": {},
     "title": ""
    }
   },
   "outputs": [],
   "source": [
    "df1 = spark.table('vr_demo_dev.control.meta_ingestion_config').toPandas()\n",
    "keys = ['ingestion_group', 'target_catalog', 'target_database', 'target_table']\n",
    "df1 = df1[[df1[key] != \"\" for key in keys]]"
   ]
  },
  {
   "cell_type": "code",
   "execution_count": 0,
   "metadata": {
    "application/vnd.databricks.v1+cell": {
     "cellMetadata": {},
     "inputWidgets": {},
     "nuid": "e1afe610-8adc-4c0e-beb6-a64490562837",
     "showTitle": false,
     "tableResultSettingsMap": {},
     "title": ""
    }
   },
   "outputs": [],
   "source": []
  },
  {
   "cell_type": "code",
   "execution_count": 0,
   "metadata": {
    "application/vnd.databricks.v1+cell": {
     "cellMetadata": {},
     "inputWidgets": {},
     "nuid": "f6bedbeb-a305-4631-8a60-3d769bd17325",
     "showTitle": false,
     "tableResultSettingsMap": {},
     "title": ""
    }
   },
   "outputs": [],
   "source": []
  },
  {
   "cell_type": "code",
   "execution_count": 0,
   "metadata": {
    "application/vnd.databricks.v1+cell": {
     "cellMetadata": {
      "byteLimit": 2048000,
      "implicitDf": true,
      "rowLimit": 10000
     },
     "inputWidgets": {},
     "nuid": "6ba153ec-d371-4ddc-b2ba-c7a5661ede66",
     "showTitle": false,
     "tableResultSettingsMap": {},
     "title": ""
    }
   },
   "outputs": [],
   "source": [
    "%sql \n",
    "-- NEED TO CONVERT NaT's to null\n",
    "WITH s AS (\n",
    "  VALUES ('test-group-1', 'vr_demo', 'group1', 'table1', True, 'file', 's3://src-bucket/group1/table1', 's3://dst-bucket/control/group1/table1', '', '', '* EXCEPT (id)', 'eventid', 'processingTime', 'time,action', '2025-01-21 17:53:50.039637', null),('test-group-1', 'vr_demo', 'group1', 'table2', True, 'file', 's3://src-bucket/group1/table2', 's3://dst-bucket/control/group1/table2', '', '', '* EXCEPT (id)', 'eventid', 'processingTime', 'time,action,asd', '2025-01-21 17:53:50.039685', null),('test-group-1', 'vr_demo', 'group1', 'table3', True, 'file', 's3://src-bucket/group1/table3', 's3://dst-bucket/control/group1/table3', '', '', '* EXCEPT (id)', 'eventid', 'processingTime', 'time,action,asd', '2025-01-21 17:53:50.039696', null) AS s(ingestion_group, target_catalog, target_database, target_table, active, source_type, source_file_path, source_file_aux_path, source_kafka_topic, source_kafka_schema, silver_transformations, silver_time_key, silver_merge_keys, silver_clustering_keys, time_last_modified, time_last_promoted)\n",
    ")\n",
    "MERGE INTO vr_demo_dev.control.meta_ingestion_config t\n",
    "USING s\n",
    "ON t.ingestion_group = s.ingestion_group AND t.target_catalog = s.target_catalog AND t.target_database = s.target_database AND t.target_table = s.target_table\n",
    "WHEN MATCHED THEN UPDATE SET *\n",
    "WHEN NOT MATCHED THEN INSERT *"
   ]
  },
  {
   "cell_type": "code",
   "execution_count": 0,
   "metadata": {
    "application/vnd.databricks.v1+cell": {
     "cellMetadata": {
      "byteLimit": 2048000,
      "implicitDf": true,
      "rowLimit": 10000
     },
     "inputWidgets": {},
     "nuid": "5623c0b3-3534-4487-815c-f80fdf88c053",
     "showTitle": false,
     "tableResultSettingsMap": {},
     "title": ""
    }
   },
   "outputs": [],
   "source": [
    "%sql\n",
    "WITH s AS (\n",
    "  VALUES ('test-group-1', 'vr_demo', 'group1', 'table1', True, 'file', 's3://src-bucket/group1/table1', 's3://dst-bucket/control/group1/table1', '', '', '* EXCEPT (id)', 'eventid', 'processingTime', 'time,action', '2025-01-21 20:28:03.174669', null),('test-group-1', 'vr_demo', 'group1', 'table2', True, 'file', 's3://src-bucket/group1/table2', 's3://dst-bucket/control/group1/table2', '', '', '* EXCEPT (id)', 'eventid', 'processingTime', 'time,action,asd', '2025-01-21 20:28:03.174688', null),('test-group-1', 'vr_demo', 'group1', 'table3', True, 'file', 's3://src-bucket/group1/table3', 's3://dst-bucket/control/group1/table3', '', '', '* EXCEPT (id)', 'eventid', 'processingTime', 'time,action,asd', '2025-01-21 20:28:03.174693', null) AS s(ingestion_group, target_catalog, target_database, target_table, active, source_type, source_file_path, source_file_aux_path, source_kafka_topic, source_kafka_schema, silver_transformations, silver_time_key, silver_merge_keys, silver_clustering_keys, time_last_modified, time_last_promoted)\n",
    ")\n",
    "MERGE INTO vr_demo_dev.control.meta_ingestion_config t\n",
    "USING VALUES s\n",
    "ON t.ingestion_group = s.ingestion_group AND t.target_catalog = s.target_catalog AND t.target_database = s.target_database AND t.target_table = s.target_table\n",
    "WHEN MATCHED THEN UPDATE SET *\n",
    "WHEN NOT MATCHED THEN INSERT *\n"
   ]
  },
  {
   "cell_type": "code",
   "execution_count": 0,
   "metadata": {
    "application/vnd.databricks.v1+cell": {
     "cellMetadata": {},
     "inputWidgets": {},
     "nuid": "73df2992-133d-43e6-8abf-9d2fd46d3f8d",
     "showTitle": false,
     "tableResultSettingsMap": {},
     "title": ""
    }
   },
   "outputs": [],
   "source": []
  },
  {
   "cell_type": "code",
   "execution_count": 0,
   "metadata": {
    "application/vnd.databricks.v1+cell": {
     "cellMetadata": {},
     "inputWidgets": {},
     "nuid": "a69b57ad-bce8-4245-b6c4-bcd5346a59b9",
     "showTitle": false,
     "tableResultSettingsMap": {},
     "title": ""
    }
   },
   "outputs": [],
   "source": []
  },
  {
   "cell_type": "code",
   "execution_count": 0,
   "metadata": {
    "application/vnd.databricks.v1+cell": {
     "cellMetadata": {
      "byteLimit": 2048000,
      "implicitDf": true,
      "rowLimit": 10000
     },
     "inputWidgets": {},
     "nuid": "8724bf96-e01c-46ae-86c3-fa4010e909f8",
     "showTitle": false,
     "tableResultSettingsMap": {},
     "title": ""
    }
   },
   "outputs": [],
   "source": [
    "%sql create or replace table vr_demo_dev.control.meta_ingestion_config as select * except (time_last_promoted) from vr_demo_dev.control.meta_ingestion_config"
   ]
  }
 ],
 "metadata": {
  "application/vnd.databricks.v1+notebook": {
   "computePreferences": null,
   "dashboards": [],
   "environmentMetadata": {
    "base_environment": "",
    "environment_version": "2"
   },
   "inputWidgetPreferences": null,
   "language": "python",
   "notebookMetadata": {
    "mostRecentlyExecutedCommandWithImplicitDF": {
     "commandId": 7118692805930981,
     "dataframes": [
      "_sqldf"
     ]
    },
    "pythonIndentUnit": 2
   },
   "notebookName": "test",
   "widgets": {}
  },
  "language_info": {
   "name": "python"
  }
 },
 "nbformat": 4,
 "nbformat_minor": 0
}
